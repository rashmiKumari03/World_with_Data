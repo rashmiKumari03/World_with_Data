{
 "cells": [
  {
   "cell_type": "markdown",
   "id": "7912a944-2b0f-4e81-8953-656f8d4cfcb6",
   "metadata": {},
   "source": [
    "### Agenda:\n",
    "\n",
    "##### Machine Learning Steps:\n",
    "1. Data Ingestion\n",
    "2. EDA\n",
    "3. Feature Engineering ( or Preprocessing)\n",
    "4. Model Building\n",
    "**(Applying alogorithm on the Data) (models are Mathematical equaltions just algorithms applied on the data )**\n",
    "6. Evaluation of The Model "
   ]
  },
  {
   "cell_type": "markdown",
   "id": "a21c0839-10c4-42fb-aff5-6559030b94cf",
   "metadata": {},
   "source": [
    "# FEATURE ENGINEERING"
   ]
  },
  {
   "cell_type": "markdown",
   "id": "ef377c91-11db-42a6-8ee9-ed2f4cbfdc6a",
   "metadata": {},
   "source": [
    "**WHY WE PERFORM FEATURE ENGINEERING?**\n",
    "\n",
    " We can find the real world data is quite messy, it has lots of missing values, not encoded properly, scalig is one major thing , so many unneccessary features are there from that we need to find which are majorly responsible for predication and so many more things . To solve these issues we need something called Feature Engineering which will make our messy data into proper useful dataset using various steps of feature engineering\n",
    "\n",
    "Why to encode ? Because we have categorical data also inside our dataset and we cannot pass non numeric data to out model , as mathematical equation wont get perform on top of it...so we need to encode those categorical data into numerical and then need to pass to the model (mathematical equations or algorithms)"
   ]
  },
  {
   "cell_type": "markdown",
   "id": "840b7a61-2c53-4ee4-a94f-80b5ee7de071",
   "metadata": {},
   "source": [
    "Ways for Performing Feature Enigineering:\n",
    "1. **Feature Transformation**: We have missing value ..we have to handle those missing value, distribution transformation,Outlier Handling,we can also transform those outlier to some value(if needed),Scaling\n",
    "   * Missing Value Handling\n",
    "   * Outlier Handling\n",
    "   * Scaling (Standarization,MinMaxSaling)\n",
    "   * Encloding (Categorical data to numeric data)\n",
    "   * Other Transformation (Distribution : LogTransformation,ExponentialTransformation,Box-Cox Transformation)\n",
    "   \n",
    "2. **Feature Construction**:**(Merging or Splitting)**\n",
    "   We can construct /merge the feature , we can split the feature.\n",
    "   * newc_col = col1 + col2        Construct new feature by combining two other feature based on some logic.\n",
    "     Also we need to Compare the Performace that whether single features are giving good results of the combination. (Machine learning is all about the experiments)\n",
    "   * eg. Titanic : data['Family'] = data['Parch'] + data['SibSp']\n",
    "   * eg. data[\"Ticket\"] we can segregate alphabets and numeric vaues.\n",
    "   * eg. Suppose there is a column which has messy data like consists of categorical and numeric values. Then How can we handle that data.\n",
    "   \n",
    "     \n",
    "   \n",
    "   \n",
    "3. **Feature Selection**:We take subset of the data.We are taking Important features from the data.\n",
    "   Sometimes we do it and sometimes we dont do it usally depends on the problem statement.\n",
    "   So we create model without Feature selection and with feature selection and checks model accuracy increased or not..If Instead of increasing it decreased This is Called Curse of Dimensionality.\n",
    "   \n",
    "4.**Feature Extraction**: Here We talk about Dimensionality Reducation (Using PCA,tsne,LDA)\n",
    "Feature selection and feature extraction is quite same...but the mathematical aspects are different. We merege all feature and represent in terms of single feature Using PCA , t-sne,LDA.\n",
    "\n",
    "Feature Selection and Extraction are interchangable terms...works alike..But for Feature Selection we have certain technique and for feature extraction we have some certain technique.\n",
    "\n",
    "Feature Selection and Feature Extraction both Dimensionality reduction techniques...Mathematical approach is diff."
   ]
  },
  {
   "cell_type": "code",
   "execution_count": null,
   "id": "fe748838",
   "metadata": {},
   "outputs": [],
   "source": []
  },
  {
   "cell_type": "markdown",
   "id": "0ae37f0d-50ac-4599-8881-bfab030592d8",
   "metadata": {},
   "source": [
    "# Lets Start"
   ]
  },
  {
   "cell_type": "markdown",
   "id": "4fcb74a8",
   "metadata": {},
   "source": [
    "One warning came that pandas is dependent on pyarrow so thats why install pyarrow nothing much   pip install pyarrow"
   ]
  },
  {
   "cell_type": "code",
   "execution_count": 1,
   "id": "7806a466-d1ab-45b6-bf7e-470c05302efe",
   "metadata": {},
   "outputs": [],
   "source": [
    "import pandas as pd\n",
    "\n",
    "import warnings\n",
    "warnings.filterwarnings('ignore')"
   ]
  },
  {
   "cell_type": "code",
   "execution_count": 2,
   "id": "25dc426f-cfac-4bde-b9cf-a34fbc7c8f90",
   "metadata": {},
   "outputs": [],
   "source": [
    "data=pd.read_csv(\"https://raw.githubusercontent.com/shivang98/Social-Network-ads-Boost/master/Social_Network_Ads.csv\")"
   ]
  },
  {
   "cell_type": "code",
   "execution_count": 3,
   "id": "23c3d3cb-f5bc-4458-b241-963762fe1678",
   "metadata": {},
   "outputs": [
    {
     "data": {
      "text/html": [
       "<div>\n",
       "<style scoped>\n",
       "    .dataframe tbody tr th:only-of-type {\n",
       "        vertical-align: middle;\n",
       "    }\n",
       "\n",
       "    .dataframe tbody tr th {\n",
       "        vertical-align: top;\n",
       "    }\n",
       "\n",
       "    .dataframe thead th {\n",
       "        text-align: right;\n",
       "    }\n",
       "</style>\n",
       "<table border=\"1\" class=\"dataframe\">\n",
       "  <thead>\n",
       "    <tr style=\"text-align: right;\">\n",
       "      <th></th>\n",
       "      <th>User ID</th>\n",
       "      <th>Gender</th>\n",
       "      <th>Age</th>\n",
       "      <th>EstimatedSalary</th>\n",
       "      <th>Purchased</th>\n",
       "    </tr>\n",
       "  </thead>\n",
       "  <tbody>\n",
       "    <tr>\n",
       "      <th>0</th>\n",
       "      <td>15624510</td>\n",
       "      <td>Male</td>\n",
       "      <td>19</td>\n",
       "      <td>19000</td>\n",
       "      <td>0</td>\n",
       "    </tr>\n",
       "    <tr>\n",
       "      <th>1</th>\n",
       "      <td>15810944</td>\n",
       "      <td>Male</td>\n",
       "      <td>35</td>\n",
       "      <td>20000</td>\n",
       "      <td>0</td>\n",
       "    </tr>\n",
       "    <tr>\n",
       "      <th>2</th>\n",
       "      <td>15668575</td>\n",
       "      <td>Female</td>\n",
       "      <td>26</td>\n",
       "      <td>43000</td>\n",
       "      <td>0</td>\n",
       "    </tr>\n",
       "    <tr>\n",
       "      <th>3</th>\n",
       "      <td>15603246</td>\n",
       "      <td>Female</td>\n",
       "      <td>27</td>\n",
       "      <td>57000</td>\n",
       "      <td>0</td>\n",
       "    </tr>\n",
       "    <tr>\n",
       "      <th>4</th>\n",
       "      <td>15804002</td>\n",
       "      <td>Male</td>\n",
       "      <td>19</td>\n",
       "      <td>76000</td>\n",
       "      <td>0</td>\n",
       "    </tr>\n",
       "  </tbody>\n",
       "</table>\n",
       "</div>"
      ],
      "text/plain": [
       "    User ID  Gender  Age  EstimatedSalary  Purchased\n",
       "0  15624510    Male   19            19000          0\n",
       "1  15810944    Male   35            20000          0\n",
       "2  15668575  Female   26            43000          0\n",
       "3  15603246  Female   27            57000          0\n",
       "4  15804002    Male   19            76000          0"
      ]
     },
     "execution_count": 3,
     "metadata": {},
     "output_type": "execute_result"
    }
   ],
   "source": [
    "data.head()"
   ]
  },
  {
   "cell_type": "code",
   "execution_count": 4,
   "id": "e46170fb-148e-43de-ad64-d64ca591e79b",
   "metadata": {},
   "outputs": [
    {
     "name": "stdout",
     "output_type": "stream",
     "text": [
      "Number of Rows: 400\n",
      "Number of Columns: 5\n"
     ]
    }
   ],
   "source": [
    "print(\"Number of Rows:\",data.shape[0])\n",
    "print(\"Number of Columns:\",data.shape[1])"
   ]
  },
  {
   "cell_type": "code",
   "execution_count": 5,
   "id": "00fccb63-feec-4993-89bf-d25e6277c2ee",
   "metadata": {},
   "outputs": [
    {
     "name": "stdout",
     "output_type": "stream",
     "text": [
      "Name of the Columns: ['User ID', 'Gender', 'Age', 'EstimatedSalary', 'Purchased']\n"
     ]
    }
   ],
   "source": [
    "print(\"Name of the Columns:\",list(data.columns))"
   ]
  },
  {
   "cell_type": "code",
   "execution_count": 6,
   "id": "85a49c3d-845f-449c-bc15-e77e634ef169",
   "metadata": {},
   "outputs": [
    {
     "name": "stdout",
     "output_type": "stream",
     "text": [
      "<class 'pandas.core.frame.DataFrame'>\n",
      "RangeIndex: 400 entries, 0 to 399\n",
      "Data columns (total 5 columns):\n",
      " #   Column           Non-Null Count  Dtype \n",
      "---  ------           --------------  ----- \n",
      " 0   User ID          400 non-null    int64 \n",
      " 1   Gender           400 non-null    object\n",
      " 2   Age              400 non-null    int64 \n",
      " 3   EstimatedSalary  400 non-null    int64 \n",
      " 4   Purchased        400 non-null    int64 \n",
      "dtypes: int64(4), object(1)\n",
      "memory usage: 15.8+ KB\n"
     ]
    }
   ],
   "source": [
    "data.info()"
   ]
  },
  {
   "cell_type": "code",
   "execution_count": 7,
   "id": "b2e1b63e-3693-45b7-a56a-34c1c75bfe45",
   "metadata": {},
   "outputs": [
    {
     "data": {
      "text/plain": [
       "User ID            0\n",
       "Gender             0\n",
       "Age                0\n",
       "EstimatedSalary    0\n",
       "Purchased          0\n",
       "dtype: int64"
      ]
     },
     "execution_count": 7,
     "metadata": {},
     "output_type": "execute_result"
    }
   ],
   "source": [
    "# Checking is there any missing values or not.\n",
    "data.isnull().sum()"
   ]
  },
  {
   "cell_type": "code",
   "execution_count": 8,
   "id": "6f1be281-1631-476a-8c8e-6517ec4f5db1",
   "metadata": {},
   "outputs": [],
   "source": [
    "# No missing values are there..."
   ]
  },
  {
   "cell_type": "code",
   "execution_count": 9,
   "id": "167914aa-f61b-41bb-9364-171e18d196e1",
   "metadata": {},
   "outputs": [
    {
     "data": {
      "text/html": [
       "<div>\n",
       "<style scoped>\n",
       "    .dataframe tbody tr th:only-of-type {\n",
       "        vertical-align: middle;\n",
       "    }\n",
       "\n",
       "    .dataframe tbody tr th {\n",
       "        vertical-align: top;\n",
       "    }\n",
       "\n",
       "    .dataframe thead th {\n",
       "        text-align: right;\n",
       "    }\n",
       "</style>\n",
       "<table border=\"1\" class=\"dataframe\">\n",
       "  <thead>\n",
       "    <tr style=\"text-align: right;\">\n",
       "      <th></th>\n",
       "      <th>User ID</th>\n",
       "      <th>Gender</th>\n",
       "      <th>Age</th>\n",
       "      <th>EstimatedSalary</th>\n",
       "      <th>Purchased</th>\n",
       "    </tr>\n",
       "  </thead>\n",
       "  <tbody>\n",
       "  </tbody>\n",
       "</table>\n",
       "</div>"
      ],
      "text/plain": [
       "Empty DataFrame\n",
       "Columns: [User ID, Gender, Age, EstimatedSalary, Purchased]\n",
       "Index: []"
      ]
     },
     "execution_count": 9,
     "metadata": {},
     "output_type": "execute_result"
    }
   ],
   "source": [
    "#Lets see for dupliacte values..\n",
    "data[data.duplicated()]  # This shows no duplicate values are there.."
   ]
  },
  {
   "cell_type": "code",
   "execution_count": 10,
   "id": "b481ad4c-45f7-4e80-a8f9-4e81065b1ecc",
   "metadata": {},
   "outputs": [],
   "source": [
    "# Lets understand the data...Using nunique and unqiue values..\n",
    "# Based on Data Basic Analysis is that..Gender and Purchased Must be Categorical...and Age and EstimatedSalary must be numerical\n",
    "# So lets change the datatype of it for proper analysis..\n",
    "# We can see Purchased must be in Categorical values...lets make them object from int64.\n",
    "\n",
    "data['Purchased']=data['Purchased'].astype('object')  # Now this is fine.."
   ]
  },
  {
   "cell_type": "code",
   "execution_count": 11,
   "id": "0435da6c-a88a-41d3-90e5-d1ca5aff4c75",
   "metadata": {},
   "outputs": [
    {
     "name": "stdout",
     "output_type": "stream",
     "text": [
      "<class 'pandas.core.frame.DataFrame'>\n",
      "RangeIndex: 400 entries, 0 to 399\n",
      "Data columns (total 5 columns):\n",
      " #   Column           Non-Null Count  Dtype \n",
      "---  ------           --------------  ----- \n",
      " 0   User ID          400 non-null    int64 \n",
      " 1   Gender           400 non-null    object\n",
      " 2   Age              400 non-null    int64 \n",
      " 3   EstimatedSalary  400 non-null    int64 \n",
      " 4   Purchased        400 non-null    object\n",
      "dtypes: int64(3), object(2)\n",
      "memory usage: 15.8+ KB\n"
     ]
    }
   ],
   "source": [
    "data.info()"
   ]
  },
  {
   "cell_type": "code",
   "execution_count": 12,
   "id": "dbf0260f-d867-4be3-a6f9-43238321af1d",
   "metadata": {},
   "outputs": [
    {
     "data": {
      "text/html": [
       "<div>\n",
       "<style scoped>\n",
       "    .dataframe tbody tr th:only-of-type {\n",
       "        vertical-align: middle;\n",
       "    }\n",
       "\n",
       "    .dataframe tbody tr th {\n",
       "        vertical-align: top;\n",
       "    }\n",
       "\n",
       "    .dataframe thead th {\n",
       "        text-align: right;\n",
       "    }\n",
       "</style>\n",
       "<table border=\"1\" class=\"dataframe\">\n",
       "  <thead>\n",
       "    <tr style=\"text-align: right;\">\n",
       "      <th></th>\n",
       "      <th>count</th>\n",
       "      <th>mean</th>\n",
       "      <th>std</th>\n",
       "      <th>min</th>\n",
       "      <th>25%</th>\n",
       "      <th>50%</th>\n",
       "      <th>75%</th>\n",
       "      <th>max</th>\n",
       "    </tr>\n",
       "  </thead>\n",
       "  <tbody>\n",
       "    <tr>\n",
       "      <th>User ID</th>\n",
       "      <td>400.0</td>\n",
       "      <td>1.569154e+07</td>\n",
       "      <td>71658.321581</td>\n",
       "      <td>15566689.0</td>\n",
       "      <td>15626763.75</td>\n",
       "      <td>15694341.5</td>\n",
       "      <td>15750363.0</td>\n",
       "      <td>15815236.0</td>\n",
       "    </tr>\n",
       "    <tr>\n",
       "      <th>Age</th>\n",
       "      <td>400.0</td>\n",
       "      <td>3.765500e+01</td>\n",
       "      <td>10.482877</td>\n",
       "      <td>18.0</td>\n",
       "      <td>29.75</td>\n",
       "      <td>37.0</td>\n",
       "      <td>46.0</td>\n",
       "      <td>60.0</td>\n",
       "    </tr>\n",
       "    <tr>\n",
       "      <th>EstimatedSalary</th>\n",
       "      <td>400.0</td>\n",
       "      <td>6.974250e+04</td>\n",
       "      <td>34096.960282</td>\n",
       "      <td>15000.0</td>\n",
       "      <td>43000.00</td>\n",
       "      <td>70000.0</td>\n",
       "      <td>88000.0</td>\n",
       "      <td>150000.0</td>\n",
       "    </tr>\n",
       "  </tbody>\n",
       "</table>\n",
       "</div>"
      ],
      "text/plain": [
       "                 count          mean           std         min          25%  \\\n",
       "User ID          400.0  1.569154e+07  71658.321581  15566689.0  15626763.75   \n",
       "Age              400.0  3.765500e+01     10.482877        18.0        29.75   \n",
       "EstimatedSalary  400.0  6.974250e+04  34096.960282     15000.0     43000.00   \n",
       "\n",
       "                        50%         75%         max  \n",
       "User ID          15694341.5  15750363.0  15815236.0  \n",
       "Age                    37.0        46.0        60.0  \n",
       "EstimatedSalary     70000.0     88000.0    150000.0  "
      ]
     },
     "execution_count": 12,
     "metadata": {},
     "output_type": "execute_result"
    }
   ],
   "source": [
    "# Lets see the mathematical Insgihts of the dataset..\n",
    "data.describe().T   # This is by default measures given by describe() method..This is bascially data.describe(exclude='object') "
   ]
  },
  {
   "cell_type": "code",
   "execution_count": 13,
   "id": "251960b1-14e9-4a6e-94ba-73ddc2f631c7",
   "metadata": {},
   "outputs": [
    {
     "data": {
      "text/html": [
       "<div>\n",
       "<style scoped>\n",
       "    .dataframe tbody tr th:only-of-type {\n",
       "        vertical-align: middle;\n",
       "    }\n",
       "\n",
       "    .dataframe tbody tr th {\n",
       "        vertical-align: top;\n",
       "    }\n",
       "\n",
       "    .dataframe thead th {\n",
       "        text-align: right;\n",
       "    }\n",
       "</style>\n",
       "<table border=\"1\" class=\"dataframe\">\n",
       "  <thead>\n",
       "    <tr style=\"text-align: right;\">\n",
       "      <th></th>\n",
       "      <th>count</th>\n",
       "      <th>unique</th>\n",
       "      <th>top</th>\n",
       "      <th>freq</th>\n",
       "    </tr>\n",
       "  </thead>\n",
       "  <tbody>\n",
       "    <tr>\n",
       "      <th>Gender</th>\n",
       "      <td>400</td>\n",
       "      <td>2</td>\n",
       "      <td>Female</td>\n",
       "      <td>204</td>\n",
       "    </tr>\n",
       "    <tr>\n",
       "      <th>Purchased</th>\n",
       "      <td>400</td>\n",
       "      <td>2</td>\n",
       "      <td>0</td>\n",
       "      <td>257</td>\n",
       "    </tr>\n",
       "  </tbody>\n",
       "</table>\n",
       "</div>"
      ],
      "text/plain": [
       "          count unique     top freq\n",
       "Gender      400      2  Female  204\n",
       "Purchased   400      2       0  257"
      ]
     },
     "execution_count": 13,
     "metadata": {},
     "output_type": "execute_result"
    }
   ],
   "source": [
    "data.describe(include='object').T   # Shows about the Non Numeric Values"
   ]
  },
  {
   "cell_type": "code",
   "execution_count": 14,
   "id": "25283d46-dac4-41fa-bc97-f536bb1d0205",
   "metadata": {},
   "outputs": [
    {
     "data": {
      "text/html": [
       "<div>\n",
       "<style scoped>\n",
       "    .dataframe tbody tr th:only-of-type {\n",
       "        vertical-align: middle;\n",
       "    }\n",
       "\n",
       "    .dataframe tbody tr th {\n",
       "        vertical-align: top;\n",
       "    }\n",
       "\n",
       "    .dataframe thead th {\n",
       "        text-align: right;\n",
       "    }\n",
       "</style>\n",
       "<table border=\"1\" class=\"dataframe\">\n",
       "  <thead>\n",
       "    <tr style=\"text-align: right;\">\n",
       "      <th></th>\n",
       "      <th>Gender</th>\n",
       "      <th>Age</th>\n",
       "      <th>EstimatedSalary</th>\n",
       "      <th>Purchased</th>\n",
       "    </tr>\n",
       "  </thead>\n",
       "  <tbody>\n",
       "    <tr>\n",
       "      <th>0</th>\n",
       "      <td>Male</td>\n",
       "      <td>19</td>\n",
       "      <td>19000</td>\n",
       "      <td>0</td>\n",
       "    </tr>\n",
       "    <tr>\n",
       "      <th>1</th>\n",
       "      <td>Male</td>\n",
       "      <td>35</td>\n",
       "      <td>20000</td>\n",
       "      <td>0</td>\n",
       "    </tr>\n",
       "    <tr>\n",
       "      <th>2</th>\n",
       "      <td>Female</td>\n",
       "      <td>26</td>\n",
       "      <td>43000</td>\n",
       "      <td>0</td>\n",
       "    </tr>\n",
       "    <tr>\n",
       "      <th>3</th>\n",
       "      <td>Female</td>\n",
       "      <td>27</td>\n",
       "      <td>57000</td>\n",
       "      <td>0</td>\n",
       "    </tr>\n",
       "    <tr>\n",
       "      <th>4</th>\n",
       "      <td>Male</td>\n",
       "      <td>19</td>\n",
       "      <td>76000</td>\n",
       "      <td>0</td>\n",
       "    </tr>\n",
       "  </tbody>\n",
       "</table>\n",
       "</div>"
      ],
      "text/plain": [
       "   Gender  Age  EstimatedSalary Purchased\n",
       "0    Male   19            19000         0\n",
       "1    Male   35            20000         0\n",
       "2  Female   26            43000         0\n",
       "3  Female   27            57000         0\n",
       "4    Male   19            76000         0"
      ]
     },
     "execution_count": 14,
     "metadata": {},
     "output_type": "execute_result"
    }
   ],
   "source": [
    "# Since we know id is of no use for us in data analysis...so its better to drop it.\n",
    "\n",
    "data.drop(columns=['User ID'],inplace=True)\n",
    "data.head()"
   ]
  },
  {
   "cell_type": "code",
   "execution_count": 15,
   "id": "ed49cba8-3841-4fb3-b2ea-8b5009c5a0da",
   "metadata": {},
   "outputs": [
    {
     "name": "stdout",
     "output_type": "stream",
     "text": [
      "Gender has  2 unique values and those are ['Male' 'Female']\n",
      "Gender has  2 unique values and those are [0 1]\n"
     ]
    }
   ],
   "source": [
    "# From data.describe(include='object').T  we already came to know about Gender has 2 unique values and Purchased has two unique values..\n",
    "\n",
    "print(f\"Gender has  {data['Gender'].nunique()} unique values and those are {data['Gender'].unique()}\")\n",
    "print(f\"Gender has  {data['Purchased'].nunique()} unique values and those are {data['Purchased'].unique()}\")"
   ]
  },
  {
   "cell_type": "code",
   "execution_count": 16,
   "id": "bc5d9d95-4be6-4d7d-83a0-e2e38678fbd1",
   "metadata": {},
   "outputs": [],
   "source": [
    "# Lets Segregate the Numerical and Categorical Data using select_dtype() method .\n",
    "\n",
    "categorical_data = data.select_dtypes(include='object')\n",
    "numerical_data = data.select_dtypes(exclude='object')"
   ]
  },
  {
   "cell_type": "code",
   "execution_count": 17,
   "id": "70250ca5-5069-47a6-8b6d-d1c04313ef3b",
   "metadata": {},
   "outputs": [],
   "source": [
    "categorical_cols= list(categorical_data.columns)\n",
    "numerical_cols = list(numerical_data.columns)"
   ]
  },
  {
   "cell_type": "code",
   "execution_count": 18,
   "id": "ef618f76-9074-4cda-b0a0-3f301cc7db28",
   "metadata": {},
   "outputs": [
    {
     "data": {
      "text/plain": [
       "['Gender', 'Purchased']"
      ]
     },
     "execution_count": 18,
     "metadata": {},
     "output_type": "execute_result"
    }
   ],
   "source": [
    "categorical_cols"
   ]
  },
  {
   "cell_type": "code",
   "execution_count": 19,
   "id": "857e6422-b84c-46d9-88aa-3b8dbec49f30",
   "metadata": {},
   "outputs": [
    {
     "data": {
      "text/plain": [
       "['Age', 'EstimatedSalary']"
      ]
     },
     "execution_count": 19,
     "metadata": {},
     "output_type": "execute_result"
    }
   ],
   "source": [
    "numerical_cols"
   ]
  },
  {
   "cell_type": "code",
   "execution_count": 20,
   "id": "2e046e53-d169-4b0d-969c-2f79e95f2e39",
   "metadata": {},
   "outputs": [
    {
     "data": {
      "text/html": [
       "<div>\n",
       "<style scoped>\n",
       "    .dataframe tbody tr th:only-of-type {\n",
       "        vertical-align: middle;\n",
       "    }\n",
       "\n",
       "    .dataframe tbody tr th {\n",
       "        vertical-align: top;\n",
       "    }\n",
       "\n",
       "    .dataframe thead th {\n",
       "        text-align: right;\n",
       "    }\n",
       "</style>\n",
       "<table border=\"1\" class=\"dataframe\">\n",
       "  <thead>\n",
       "    <tr style=\"text-align: right;\">\n",
       "      <th></th>\n",
       "      <th>Gender</th>\n",
       "      <th>Age</th>\n",
       "      <th>EstimatedSalary</th>\n",
       "      <th>Purchased</th>\n",
       "    </tr>\n",
       "  </thead>\n",
       "  <tbody>\n",
       "    <tr>\n",
       "      <th>0</th>\n",
       "      <td>Male</td>\n",
       "      <td>19</td>\n",
       "      <td>19000</td>\n",
       "      <td>0</td>\n",
       "    </tr>\n",
       "    <tr>\n",
       "      <th>1</th>\n",
       "      <td>Male</td>\n",
       "      <td>35</td>\n",
       "      <td>20000</td>\n",
       "      <td>0</td>\n",
       "    </tr>\n",
       "    <tr>\n",
       "      <th>2</th>\n",
       "      <td>Female</td>\n",
       "      <td>26</td>\n",
       "      <td>43000</td>\n",
       "      <td>0</td>\n",
       "    </tr>\n",
       "    <tr>\n",
       "      <th>3</th>\n",
       "      <td>Female</td>\n",
       "      <td>27</td>\n",
       "      <td>57000</td>\n",
       "      <td>0</td>\n",
       "    </tr>\n",
       "    <tr>\n",
       "      <th>4</th>\n",
       "      <td>Male</td>\n",
       "      <td>19</td>\n",
       "      <td>76000</td>\n",
       "      <td>0</td>\n",
       "    </tr>\n",
       "  </tbody>\n",
       "</table>\n",
       "</div>"
      ],
      "text/plain": [
       "   Gender  Age  EstimatedSalary Purchased\n",
       "0    Male   19            19000         0\n",
       "1    Male   35            20000         0\n",
       "2  Female   26            43000         0\n",
       "3  Female   27            57000         0\n",
       "4    Male   19            76000         0"
      ]
     },
     "execution_count": 20,
     "metadata": {},
     "output_type": "execute_result"
    }
   ],
   "source": [
    "data.head()"
   ]
  },
  {
   "cell_type": "markdown",
   "id": "0a015298-62f6-4693-8710-7e37f0c24b90",
   "metadata": {},
   "source": [
    "Here we can see Age is in 10s's and EstimatedSalary in 10K range..\n",
    "So Since Target column is Categorical so we will used such algorithms which are majorly distance based..\n",
    "If the Scale is this must different the One feature will dominate and other's effect vanishes.\n",
    "So to Prevent this issue we need to Sacle the data in same scale so that we can perform out distance based algorthims \n",
    "appropriately which leds to best performance.\n",
    "\n",
    "ALso If Regression Problems also...like Linear Regression , Logsitic Regression,SVM...These also got impacted a lot,Beacuse For Optimization we use Gradient Descent.\n",
    "\n",
    "Classification Problem : KNN (Supervised)(This is a Technique and not a Algorithm) ,K_means(Unsupervised) for Clustering"
   ]
  },
  {
   "cell_type": "markdown",
   "id": "53c505b3-5067-46a5-9815-958c4cbba704",
   "metadata": {},
   "source": [
    "**Always Take Care of this Perform the Feature Engineering on Train Data only..**\n",
    "**Not on Test data and not on Validation data**\n",
    "\n",
    "If we going to Perform this Feature Engineering technique on train as well as on test data...this will leads to **Data Leakage**\n",
    "\n",
    "Only Perform FE on Training Data and Not on Test Data\n",
    "\n",
    "* Always do fit and transform on train data using fit_transform()\n",
    "* But always fo transform only on the test data using transform()"
   ]
  },
  {
   "cell_type": "markdown",
   "id": "659763eb-9d8c-407e-820e-b94351a2396c",
   "metadata": {},
   "source": [
    "#### Splitting the Data In Train Test data (\n",
    "\n",
    "This is to avoid DataLeakage and fit_transform only on training data and transform() in test data)"
   ]
  },
  {
   "cell_type": "code",
   "execution_count": 21,
   "id": "a8d05cd6-917e-4fc9-8e21-dc7dd44ec036",
   "metadata": {},
   "outputs": [],
   "source": [
    "# Lets First Segregate the Data into Independent and Depenedent Data.\n",
    "X=data.drop( columns=['Purchased'])\n",
    "y=data['Purchased']"
   ]
  },
  {
   "cell_type": "code",
   "execution_count": 22,
   "id": "bdb64773-1104-4579-bd72-9612b846c43e",
   "metadata": {},
   "outputs": [],
   "source": [
    "from sklearn.model_selection import train_test_split"
   ]
  },
  {
   "cell_type": "code",
   "execution_count": 23,
   "id": "002b629f-8ce5-4c7d-b936-493e8d7adaa2",
   "metadata": {},
   "outputs": [],
   "source": [
    "X_train,X_test,y_train,y_test = train_test_split(X,y,test_size=0.2,random_state=42)"
   ]
  },
  {
   "cell_type": "code",
   "execution_count": 24,
   "id": "8e7b2372-42e7-401c-888c-98c8d848a6ee",
   "metadata": {},
   "outputs": [
    {
     "data": {
      "text/plain": [
       "(320, 3)"
      ]
     },
     "execution_count": 24,
     "metadata": {},
     "output_type": "execute_result"
    }
   ],
   "source": [
    "X_train.shape"
   ]
  },
  {
   "cell_type": "code",
   "execution_count": 25,
   "id": "deee833c-9849-41c2-8d91-b49ca53a755c",
   "metadata": {},
   "outputs": [
    {
     "data": {
      "text/plain": [
       "(80, 3)"
      ]
     },
     "execution_count": 25,
     "metadata": {},
     "output_type": "execute_result"
    }
   ],
   "source": [
    "X_test.shape"
   ]
  },
  {
   "cell_type": "markdown",
   "id": "140c303e-a857-4bd0-8d73-c9e3c62f047d",
   "metadata": {},
   "source": [
    "### Need TO Perform Scaling : Compress our data within a Range"
   ]
  },
  {
   "cell_type": "code",
   "execution_count": 26,
   "id": "467a0328",
   "metadata": {},
   "outputs": [],
   "source": [
    "import sklearn"
   ]
  },
  {
   "cell_type": "code",
   "execution_count": 27,
   "id": "c3206470",
   "metadata": {},
   "outputs": [],
   "source": [
    "from sklearn.preprocessing import StandardScaler"
   ]
  },
  {
   "cell_type": "code",
   "execution_count": null,
   "id": "13abf52b",
   "metadata": {},
   "outputs": [],
   "source": []
  },
  {
   "cell_type": "code",
   "execution_count": null,
   "id": "19777f9d",
   "metadata": {},
   "outputs": [],
   "source": []
  },
  {
   "cell_type": "code",
   "execution_count": null,
   "id": "4bb39ba1",
   "metadata": {},
   "outputs": [],
   "source": []
  },
  {
   "cell_type": "code",
   "execution_count": null,
   "id": "c1ac23aa",
   "metadata": {},
   "outputs": [],
   "source": []
  }
 ],
 "metadata": {
  "kernelspec": {
   "display_name": "Python3",
   "language": "python",
   "name": "python3"
  },
  "language_info": {
   "codemirror_mode": {
    "name": "ipython",
    "version": 3
   },
   "file_extension": ".py",
   "mimetype": "text/x-python",
   "name": "python",
   "nbconvert_exporter": "python",
   "pygments_lexer": "ipython3",
   "version": "3.11.5"
  }
 },
 "nbformat": 4,
 "nbformat_minor": 5
}
